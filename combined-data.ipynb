{
 "cells": [
  {
   "cell_type": "code",
   "execution_count": 1,
   "id": "3f5f00f6-89f4-455c-a4fb-54d65a918bcd",
   "metadata": {},
   "outputs": [],
   "source": [
    "import pandas as pd\n",
    "import matplotlib.pyplot as plt\n",
    "import seaborn as sns"
   ]
  },
  {
   "cell_type": "code",
   "execution_count": 2,
   "id": "5160c1d6-12b9-4d4d-9379-8561301d4361",
   "metadata": {},
   "outputs": [],
   "source": [
    "df_rainfall = pd.read_csv('generated_data/rainfall.csv')"
   ]
  },
  {
   "cell_type": "code",
   "execution_count": 3,
   "id": "1275b188-6b0a-4c07-a05b-9dfb2bc0e5c8",
   "metadata": {},
   "outputs": [
    {
     "data": {
      "text/plain": [
       "ADM2_EN\n",
       "Bagerhat       528\n",
       "Bandarban      528\n",
       "Manikganj      528\n",
       "Maulvibazar    528\n",
       "Meherpur       528\n",
       "              ... \n",
       "Khulna         528\n",
       "Kishoreganj    528\n",
       "Kurigram       528\n",
       "Kushtia        528\n",
       "Thakurgaon     528\n",
       "Name: count, Length: 64, dtype: int64"
      ]
     },
     "execution_count": 3,
     "metadata": {},
     "output_type": "execute_result"
    }
   ],
   "source": [
    "df_rainfall.ADM2_EN.value_counts()"
   ]
  },
  {
   "cell_type": "code",
   "execution_count": 4,
   "id": "7518e932-311f-4e84-88af-563f42230145",
   "metadata": {},
   "outputs": [],
   "source": [
    "df_rainfall_dhaka = df_rainfall[df_rainfall.ADM2_EN == 'Dhaka']"
   ]
  },
  {
   "cell_type": "code",
   "execution_count": 5,
   "id": "2fa9c09d-cfe1-4f14-880e-f0f09b4d78df",
   "metadata": {},
   "outputs": [
    {
     "data": {
      "text/html": [
       "<div>\n",
       "<style scoped>\n",
       "    .dataframe tbody tr th:only-of-type {\n",
       "        vertical-align: middle;\n",
       "    }\n",
       "\n",
       "    .dataframe tbody tr th {\n",
       "        vertical-align: top;\n",
       "    }\n",
       "\n",
       "    .dataframe thead th {\n",
       "        text-align: right;\n",
       "    }\n",
       "</style>\n",
       "<table border=\"1\" class=\"dataframe\">\n",
       "  <thead>\n",
       "    <tr style=\"text-align: right;\">\n",
       "      <th></th>\n",
       "      <th>date</th>\n",
       "      <th>ADM2_EN</th>\n",
       "      <th>rfh</th>\n",
       "    </tr>\n",
       "  </thead>\n",
       "  <tbody>\n",
       "    <tr>\n",
       "      <th>12</th>\n",
       "      <td>1981-01</td>\n",
       "      <td>Dhaka</td>\n",
       "      <td>4.611133</td>\n",
       "    </tr>\n",
       "    <tr>\n",
       "      <th>76</th>\n",
       "      <td>1981-02</td>\n",
       "      <td>Dhaka</td>\n",
       "      <td>10.419733</td>\n",
       "    </tr>\n",
       "    <tr>\n",
       "      <th>140</th>\n",
       "      <td>1981-03</td>\n",
       "      <td>Dhaka</td>\n",
       "      <td>38.012333</td>\n",
       "    </tr>\n",
       "    <tr>\n",
       "      <th>204</th>\n",
       "      <td>1981-04</td>\n",
       "      <td>Dhaka</td>\n",
       "      <td>137.413567</td>\n",
       "    </tr>\n",
       "    <tr>\n",
       "      <th>268</th>\n",
       "      <td>1981-05</td>\n",
       "      <td>Dhaka</td>\n",
       "      <td>107.191333</td>\n",
       "    </tr>\n",
       "    <tr>\n",
       "      <th>332</th>\n",
       "      <td>1981-06</td>\n",
       "      <td>Dhaka</td>\n",
       "      <td>69.425933</td>\n",
       "    </tr>\n",
       "    <tr>\n",
       "      <th>396</th>\n",
       "      <td>1981-07</td>\n",
       "      <td>Dhaka</td>\n",
       "      <td>156.296300</td>\n",
       "    </tr>\n",
       "    <tr>\n",
       "      <th>460</th>\n",
       "      <td>1981-08</td>\n",
       "      <td>Dhaka</td>\n",
       "      <td>78.567933</td>\n",
       "    </tr>\n",
       "    <tr>\n",
       "      <th>524</th>\n",
       "      <td>1981-09</td>\n",
       "      <td>Dhaka</td>\n",
       "      <td>85.413600</td>\n",
       "    </tr>\n",
       "    <tr>\n",
       "      <th>588</th>\n",
       "      <td>1981-10</td>\n",
       "      <td>Dhaka</td>\n",
       "      <td>17.092600</td>\n",
       "    </tr>\n",
       "    <tr>\n",
       "      <th>652</th>\n",
       "      <td>1981-11</td>\n",
       "      <td>Dhaka</td>\n",
       "      <td>3.444433</td>\n",
       "    </tr>\n",
       "    <tr>\n",
       "      <th>716</th>\n",
       "      <td>1981-12</td>\n",
       "      <td>Dhaka</td>\n",
       "      <td>7.401233</td>\n",
       "    </tr>\n",
       "    <tr>\n",
       "      <th>780</th>\n",
       "      <td>1982-01</td>\n",
       "      <td>Dhaka</td>\n",
       "      <td>1.623433</td>\n",
       "    </tr>\n",
       "    <tr>\n",
       "      <th>844</th>\n",
       "      <td>1982-02</td>\n",
       "      <td>Dhaka</td>\n",
       "      <td>6.512333</td>\n",
       "    </tr>\n",
       "    <tr>\n",
       "      <th>908</th>\n",
       "      <td>1982-03</td>\n",
       "      <td>Dhaka</td>\n",
       "      <td>18.500033</td>\n",
       "    </tr>\n",
       "    <tr>\n",
       "      <th>972</th>\n",
       "      <td>1982-04</td>\n",
       "      <td>Dhaka</td>\n",
       "      <td>67.321000</td>\n",
       "    </tr>\n",
       "    <tr>\n",
       "      <th>1036</th>\n",
       "      <td>1982-05</td>\n",
       "      <td>Dhaka</td>\n",
       "      <td>86.259267</td>\n",
       "    </tr>\n",
       "    <tr>\n",
       "      <th>1100</th>\n",
       "      <td>1982-06</td>\n",
       "      <td>Dhaka</td>\n",
       "      <td>138.814800</td>\n",
       "    </tr>\n",
       "    <tr>\n",
       "      <th>1164</th>\n",
       "      <td>1982-07</td>\n",
       "      <td>Dhaka</td>\n",
       "      <td>113.388900</td>\n",
       "    </tr>\n",
       "    <tr>\n",
       "      <th>1228</th>\n",
       "      <td>1982-08</td>\n",
       "      <td>Dhaka</td>\n",
       "      <td>125.895067</td>\n",
       "    </tr>\n",
       "  </tbody>\n",
       "</table>\n",
       "</div>"
      ],
      "text/plain": [
       "         date ADM2_EN         rfh\n",
       "12    1981-01   Dhaka    4.611133\n",
       "76    1981-02   Dhaka   10.419733\n",
       "140   1981-03   Dhaka   38.012333\n",
       "204   1981-04   Dhaka  137.413567\n",
       "268   1981-05   Dhaka  107.191333\n",
       "332   1981-06   Dhaka   69.425933\n",
       "396   1981-07   Dhaka  156.296300\n",
       "460   1981-08   Dhaka   78.567933\n",
       "524   1981-09   Dhaka   85.413600\n",
       "588   1981-10   Dhaka   17.092600\n",
       "652   1981-11   Dhaka    3.444433\n",
       "716   1981-12   Dhaka    7.401233\n",
       "780   1982-01   Dhaka    1.623433\n",
       "844   1982-02   Dhaka    6.512333\n",
       "908   1982-03   Dhaka   18.500033\n",
       "972   1982-04   Dhaka   67.321000\n",
       "1036  1982-05   Dhaka   86.259267\n",
       "1100  1982-06   Dhaka  138.814800\n",
       "1164  1982-07   Dhaka  113.388900\n",
       "1228  1982-08   Dhaka  125.895067"
      ]
     },
     "execution_count": 5,
     "metadata": {},
     "output_type": "execute_result"
    }
   ],
   "source": [
    "df_rainfall_dhaka.head(20)"
   ]
  },
  {
   "cell_type": "code",
   "execution_count": 6,
   "id": "495e81dc-2a05-40f2-b3c1-beae59ffba9e",
   "metadata": {},
   "outputs": [
    {
     "data": {
      "image/png": "[encoded data removed]",
      "text/plain": [
       "<Figure size 640x480 with 1 Axes>"
      ]
     },
     "metadata": {},
     "output_type": "display_data"
    }
   ],
   "source": [
    "plt.plot(df_rainfall_dhaka.date, df_rainfall_dhaka.rfh)\n",
    "plt.show()"
   ]
  },
  {
   "cell_type": "code",
   "execution_count": 66,
   "id": "229632f1-f6a0-44bc-9cdf-d10c818bd28f",
   "metadata": {},
   "outputs": [],
   "source": [
    "df_food = pd.read_csv('generated_data/food_pricing.csv')"
   ]
  },
  {
   "cell_type": "code",
   "execution_count": 60,
   "id": "b9035b2d-5212-4f62-87f7-6c365a872157",
   "metadata": {},
   "outputs": [],
   "source": [
    "# df_food.index = pd.to_datetime(df_food.date)"
   ]
  },
  {
   "cell_type": "code",
   "execution_count": 68,
   "id": "d4f1b746-c242-4d3a-b76b-00445ab0d1e6",
   "metadata": {},
   "outputs": [],
   "source": [
    "df_food.date = pd.to_datetime(df_food.date).dt.to_period('M')"
   ]
  },
  {
   "cell_type": "code",
   "execution_count": 70,
   "id": "326e86c6-26af-41da-9732-65e5f7900e73",
   "metadata": {},
   "outputs": [
    {
     "data": {
      "text/html": [
       "<div>\n",
       "<style scoped>\n",
       "    .dataframe tbody tr th:only-of-type {\n",
       "        vertical-align: middle;\n",
       "    }\n",
       "\n",
       "    .dataframe tbody tr th {\n",
       "        vertical-align: top;\n",
       "    }\n",
       "\n",
       "    .dataframe thead th {\n",
       "        text-align: right;\n",
       "    }\n",
       "</style>\n",
       "<table border=\"1\" class=\"dataframe\">\n",
       "  <thead>\n",
       "    <tr style=\"text-align: right;\">\n",
       "      <th></th>\n",
       "      <th>date</th>\n",
       "      <th>location</th>\n",
       "      <th>commodity</th>\n",
       "      <th>unit</th>\n",
       "      <th>price</th>\n",
       "    </tr>\n",
       "  </thead>\n",
       "  <tbody>\n",
       "    <tr>\n",
       "      <th>0</th>\n",
       "      <td>2004-03</td>\n",
       "      <td>Dhaka</td>\n",
       "      <td>Rice (coarse)</td>\n",
       "      <td>KG</td>\n",
       "      <td>14.0</td>\n",
       "    </tr>\n",
       "    <tr>\n",
       "      <th>1</th>\n",
       "      <td>2004-04</td>\n",
       "      <td>Dhaka</td>\n",
       "      <td>Rice (coarse)</td>\n",
       "      <td>KG</td>\n",
       "      <td>14.0</td>\n",
       "    </tr>\n",
       "    <tr>\n",
       "      <th>2</th>\n",
       "      <td>2004-08</td>\n",
       "      <td>Dhaka</td>\n",
       "      <td>Rice (coarse)</td>\n",
       "      <td>KG</td>\n",
       "      <td>15.0</td>\n",
       "    </tr>\n",
       "    <tr>\n",
       "      <th>3</th>\n",
       "      <td>2004-09</td>\n",
       "      <td>Dhaka</td>\n",
       "      <td>Rice (coarse)</td>\n",
       "      <td>KG</td>\n",
       "      <td>14.0</td>\n",
       "    </tr>\n",
       "    <tr>\n",
       "      <th>4</th>\n",
       "      <td>2004-10</td>\n",
       "      <td>Dhaka</td>\n",
       "      <td>Rice (coarse)</td>\n",
       "      <td>KG</td>\n",
       "      <td>15.0</td>\n",
       "    </tr>\n",
       "  </tbody>\n",
       "</table>\n",
       "</div>"
      ],
      "text/plain": [
       "      date location      commodity unit  price\n",
       "0  2004-03    Dhaka  Rice (coarse)   KG   14.0\n",
       "1  2004-04    Dhaka  Rice (coarse)   KG   14.0\n",
       "2  2004-08    Dhaka  Rice (coarse)   KG   15.0\n",
       "3  2004-09    Dhaka  Rice (coarse)   KG   14.0\n",
       "4  2004-10    Dhaka  Rice (coarse)   KG   15.0"
      ]
     },
     "execution_count": 70,
     "metadata": {},
     "output_type": "execute_result"
    }
   ],
   "source": [
    "df_food.head()"
   ]
  },
  {
   "cell_type": "code",
   "execution_count": 78,
   "id": "036c8252-066c-4f11-8d11-fa5c9bad7203",
   "metadata": {},
   "outputs": [],
   "source": [
    "df_rainfall.date = pd.to_datetime(df_rainfall.date).dt.to_period('M')"
   ]
  },
  {
   "cell_type": "code",
   "execution_count": 80,
   "id": "dbf063fc-ba4f-4747-891f-45fed54d0aee",
   "metadata": {},
   "outputs": [],
   "source": [
    "merged_df = pd.merge(df_food, df_rainfall, left_on=['date', 'location'], right_on=['date', 'ADM2_EN'], how='inner')"
   ]
  },
  {
   "cell_type": "code",
   "execution_count": 88,
   "id": "6c3a0bb3-3138-4099-b14e-9743339df5ea",
   "metadata": {},
   "outputs": [
    {
     "data": {
      "text/html": [
       "<div>\n",
       "<style scoped>\n",
       "    .dataframe tbody tr th:only-of-type {\n",
       "        vertical-align: middle;\n",
       "    }\n",
       "\n",
       "    .dataframe tbody tr th {\n",
       "        vertical-align: top;\n",
       "    }\n",
       "\n",
       "    .dataframe thead th {\n",
       "        text-align: right;\n",
       "    }\n",
       "</style>\n",
       "<table border=\"1\" class=\"dataframe\">\n",
       "  <thead>\n",
       "    <tr style=\"text-align: right;\">\n",
       "      <th></th>\n",
       "      <th>date</th>\n",
       "      <th>location</th>\n",
       "      <th>commodity</th>\n",
       "      <th>unit</th>\n",
       "      <th>price</th>\n",
       "      <th>ADM2_EN</th>\n",
       "      <th>rfh</th>\n",
       "    </tr>\n",
       "  </thead>\n",
       "  <tbody>\n",
       "    <tr>\n",
       "      <th>0</th>\n",
       "      <td>2004-03</td>\n",
       "      <td>Dhaka</td>\n",
       "      <td>Rice (coarse)</td>\n",
       "      <td>KG</td>\n",
       "      <td>14.0</td>\n",
       "      <td>Dhaka</td>\n",
       "      <td>9.567900</td>\n",
       "    </tr>\n",
       "    <tr>\n",
       "      <th>1</th>\n",
       "      <td>2004-04</td>\n",
       "      <td>Dhaka</td>\n",
       "      <td>Rice (coarse)</td>\n",
       "      <td>KG</td>\n",
       "      <td>14.0</td>\n",
       "      <td>Dhaka</td>\n",
       "      <td>106.327167</td>\n",
       "    </tr>\n",
       "    <tr>\n",
       "      <th>2</th>\n",
       "      <td>2004-08</td>\n",
       "      <td>Dhaka</td>\n",
       "      <td>Rice (coarse)</td>\n",
       "      <td>KG</td>\n",
       "      <td>15.0</td>\n",
       "      <td>Dhaka</td>\n",
       "      <td>62.240733</td>\n",
       "    </tr>\n",
       "    <tr>\n",
       "      <th>3</th>\n",
       "      <td>2004-09</td>\n",
       "      <td>Dhaka</td>\n",
       "      <td>Rice (coarse)</td>\n",
       "      <td>KG</td>\n",
       "      <td>14.0</td>\n",
       "      <td>Dhaka</td>\n",
       "      <td>173.166667</td>\n",
       "    </tr>\n",
       "    <tr>\n",
       "      <th>4</th>\n",
       "      <td>2004-10</td>\n",
       "      <td>Dhaka</td>\n",
       "      <td>Rice (coarse)</td>\n",
       "      <td>KG</td>\n",
       "      <td>15.0</td>\n",
       "      <td>Dhaka</td>\n",
       "      <td>59.648133</td>\n",
       "    </tr>\n",
       "  </tbody>\n",
       "</table>\n",
       "</div>"
      ],
      "text/plain": [
       "      date location      commodity unit  price ADM2_EN         rfh\n",
       "0  2004-03    Dhaka  Rice (coarse)   KG   14.0   Dhaka    9.567900\n",
       "1  2004-04    Dhaka  Rice (coarse)   KG   14.0   Dhaka  106.327167\n",
       "2  2004-08    Dhaka  Rice (coarse)   KG   15.0   Dhaka   62.240733\n",
       "3  2004-09    Dhaka  Rice (coarse)   KG   14.0   Dhaka  173.166667\n",
       "4  2004-10    Dhaka  Rice (coarse)   KG   15.0   Dhaka   59.648133"
      ]
     },
     "execution_count": 88,
     "metadata": {},
     "output_type": "execute_result"
    }
   ],
   "source": [
    "merged_df.head()"
   ]
  },
  {
   "cell_type": "code",
   "execution_count": 90,
   "id": "9770e234-d079-4bd9-959d-c936e98cbd42",
   "metadata": {},
   "outputs": [],
   "source": [
    "df_final = merged_df[['date', 'location', 'commodity', 'price', 'rfh']]"
   ]
  },
  {
   "cell_type": "code",
   "execution_count": 108,
   "id": "c04cbbc9-96d3-472b-8726-0aee9a1deb9d",
   "metadata": {},
   "outputs": [],
   "source": [
    "location_counts = df_final['location'].value_counts()"
   ]
  },
  {
   "cell_type": "code",
   "execution_count": 110,
   "id": "41cf8264-7566-4598-a0e8-51e06f26b292",
   "metadata": {},
   "outputs": [],
   "source": [
    "valid_locations = location_counts[location_counts >= 300].index"
   ]
  },
  {
   "cell_type": "code",
   "execution_count": 112,
   "id": "6eba20ae-e51a-4a30-88c4-986138c3ab23",
   "metadata": {},
   "outputs": [
    {
     "data": {
      "text/plain": [
       "6"
      ]
     },
     "execution_count": 112,
     "metadata": {},
     "output_type": "execute_result"
    }
   ],
   "source": [
    "len(valid_locations)"
   ]
  },
  {
   "cell_type": "code",
   "execution_count": 114,
   "id": "ce1cce28-e574-4807-8280-d23de0f287d1",
   "metadata": {},
   "outputs": [],
   "source": [
    "df_final = df_final[df_final['location'].isin(valid_locations)]"
   ]
  },
  {
   "cell_type": "code",
   "execution_count": 116,
   "id": "02336ba2-60fa-4e17-bac5-63e91d68eb77",
   "metadata": {},
   "outputs": [
    {
     "data": {
      "text/plain": [
       "(3835, 5)"
      ]
     },
     "execution_count": 116,
     "metadata": {},
     "output_type": "execute_result"
    }
   ],
   "source": [
    "df_final.shape"
   ]
  },
  {
   "cell_type": "code",
   "execution_count": 118,
   "id": "b93ed254-61ae-4446-819d-49060939b876",
   "metadata": {},
   "outputs": [
    {
     "data": {
      "text/plain": [
       "commodity\n",
       "Wheat flour        1233\n",
       "Lentils (masur)     894\n",
       "Oil (palm)          886\n",
       "Rice (coarse)       822\n",
       "Name: count, dtype: int64"
      ]
     },
     "execution_count": 118,
     "metadata": {},
     "output_type": "execute_result"
    }
   ],
   "source": [
    "df_final.commodity.value_counts()"
   ]
  },
  {
   "cell_type": "code",
   "execution_count": 120,
   "id": "2713d19d-36c2-42e2-bc24-20ea6d3bc53d",
   "metadata": {},
   "outputs": [
    {
     "name": "stdout",
     "output_type": "stream",
     "text": [
      "<class 'pandas.core.frame.DataFrame'>\n",
      "Index: 3835 entries, 0 to 9839\n",
      "Data columns (total 5 columns):\n",
      " #   Column     Non-Null Count  Dtype    \n",
      "---  ------     --------------  -----    \n",
      " 0   date       3835 non-null   period[M]\n",
      " 1   location   3835 non-null   object   \n",
      " 2   commodity  3835 non-null   object   \n",
      " 3   price      3835 non-null   float64  \n",
      " 4   rfh        3835 non-null   float64  \n",
      "dtypes: float64(2), object(2), period[M](1)\n",
      "memory usage: 179.8+ KB\n"
     ]
    }
   ],
   "source": [
    "df_final.info()"
   ]
  }
 ],
 "metadata": {
  "kernelspec": {
   "display_name": "Python 3 (ipykernel)",
   "language": "python",
   "name": "python3"
  },
  "language_info": {
   "codemirror_mode": {
    "name": "ipython",
    "version": 3
   },
   "file_extension": ".py",
   "mimetype": "text/x-python",
   "name": "python",
   "nbconvert_exporter": "python",
   "pygments_lexer": "ipython3",
   "version": "3.12.4"
  }
 },
 "nbformat": 4,
 "nbformat_minor": 5
}
